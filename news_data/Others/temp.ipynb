{
 "cells": [
  {
   "cell_type": "code",
   "execution_count": 1,
   "metadata": {},
   "outputs": [],
   "source": [
    "import pandas as pd\n",
    "\n",
    "# Function to replace entities and convert to lowercase\n",
    "def replace_entities(text):\n",
    "    # Convert to lowercase\n",
    "    text = text.lower()\n",
    "    \n",
    "    return text\n",
    "\n",
    "# Read the csv file\n",
    "df = pd.read_csv('bbc_news.csv')\n",
    "\n",
    "# Combine 'name' and 'description' columns, separate by a space\n",
    "df['text'] = df['name'] + \" \" + df['description']\n",
    "\n",
    "# Replace entities in the 'text' column and convert to lowercase\n",
    "df['text'] = df['text'].apply(replace_entities)\n",
    "\n",
    "# Drop the original 'name' and 'description' columns\n",
    "df = df.drop(['name', 'description'], axis=1)\n",
    "\n",
    "# Write the DataFrame back to csv\n",
    "df.to_csv('bbc_news_cleaned.csv', index=False)\n"
   ]
  },
  {
   "cell_type": "code",
   "execution_count": null,
   "metadata": {},
   "outputs": [],
   "source": []
  }
 ],
 "metadata": {
  "kernelspec": {
   "display_name": "nlp",
   "language": "python",
   "name": "python3"
  },
  "language_info": {
   "codemirror_mode": {
    "name": "ipython",
    "version": 3
   },
   "file_extension": ".py",
   "mimetype": "text/x-python",
   "name": "python",
   "nbconvert_exporter": "python",
   "pygments_lexer": "ipython3",
   "version": "3.10.11"
  },
  "orig_nbformat": 4
 },
 "nbformat": 4,
 "nbformat_minor": 2
}
