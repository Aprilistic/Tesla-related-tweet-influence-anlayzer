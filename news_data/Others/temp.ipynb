{
 "cells": [
  {
   "cell_type": "code",
   "execution_count": 1,
   "metadata": {},
   "outputs": [
    {
     "name": "stdout",
     "output_type": "stream",
     "text": [
      "Cleaned data saved to bbc_news_cleaned.csv\n"
     ]
    }
   ],
   "source": [
    "import csv\n",
    "import re\n",
    "import html\n",
    "\n",
    "# Read the data from the CSV file\n",
    "input_filename = 'bbc_news.csv'\n",
    "output_filename = 'bbc_news_cleaned.csv'\n",
    "\n",
    "# Regular expression to match HTML tags\n",
    "html_tags_re = re.compile('<.*?>')\n",
    "\n",
    "# Open the input file for reading and the output file for writing\n",
    "with open(input_filename, 'r') as input_file, open(output_filename, 'w', newline='') as output_file:\n",
    "    # Use the csv reader and writer\n",
    "    csv_reader = csv.reader(input_file)\n",
    "    csv_writer = csv.writer(output_file)\n",
    "    \n",
    "    # Write headers to the output file\n",
    "    headers = next(csv_reader)\n",
    "    csv_writer.writerow(headers)\n",
    "    \n",
    "    # Iterate through the rows of the CSV file\n",
    "    for row in csv_reader:\n",
    "        # Unescape HTML entities, remove HTML tags and combine the strings\n",
    "        name = html.unescape(row[0])\n",
    "        description = html.unescape(row[1])\n",
    "        cleaned_name = html_tags_re.sub('', name)\n",
    "        cleaned_description = html_tags_re.sub('', description)\n",
    "        combined_string = cleaned_name + ' ' + cleaned_description\n",
    "        \n",
    "        # Write the cleaned and combined data to the output file\n",
    "        csv_writer.writerow([combined_string])\n",
    "\n",
    "print(f'Cleaned data saved to {output_filename}')"
   ]
  },
  {
   "cell_type": "code",
   "execution_count": null,
   "metadata": {},
   "outputs": [],
   "source": []
  }
 ],
 "metadata": {
  "kernelspec": {
   "display_name": "nlp",
   "language": "python",
   "name": "python3"
  },
  "language_info": {
   "codemirror_mode": {
    "name": "ipython",
    "version": 3
   },
   "file_extension": ".py",
   "mimetype": "text/x-python",
   "name": "python",
   "nbconvert_exporter": "python",
   "pygments_lexer": "ipython3",
   "version": "3.10.11"
  },
  "orig_nbformat": 4
 },
 "nbformat": 4,
 "nbformat_minor": 2
}
