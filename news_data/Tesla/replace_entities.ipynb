{
 "cells": [
  {
   "cell_type": "code",
   "execution_count": 1,
   "metadata": {},
   "outputs": [],
   "source": [
    "import pandas as pd"
   ]
  },
  {
   "cell_type": "code",
   "execution_count": 7,
   "metadata": {},
   "outputs": [],
   "source": [
    "import pandas as pd\n",
    "\n",
    "# Function to replace entities\n",
    "def replace_entities(text):\n",
    "    entities = [\"Model S\", \"Model 3\", \"Model X\", \"Model Y\"]\n",
    "\n",
    "    for entity in entities:\n",
    "        text = text.replace(entity, entity.replace(\" \", \"_\"))\n",
    "    \n",
    "    text = text.lower()\n",
    "    return text\n",
    "\n",
    "# Read the csv file\n",
    "df = pd.read_csv('bing_news_cleaned.csv')\n",
    "\n",
    "# Replace entities in the 'text' column\n",
    "df['description'] = df['description'].apply(replace_entities)\n",
    "\n",
    "# Write the DataFrame back to csv\n",
    "df.to_csv('tesla_news_raw.csv', index=False)\n"
   ]
  },
  {
   "cell_type": "code",
   "execution_count": null,
   "metadata": {},
   "outputs": [],
   "source": []
  }
 ],
 "metadata": {
  "kernelspec": {
   "display_name": "nlp",
   "language": "python",
   "name": "python3"
  },
  "language_info": {
   "codemirror_mode": {
    "name": "ipython",
    "version": 3
   },
   "file_extension": ".py",
   "mimetype": "text/x-python",
   "name": "python",
   "nbconvert_exporter": "python",
   "pygments_lexer": "ipython3",
   "version": "3.10.11"
  },
  "orig_nbformat": 4
 },
 "nbformat": 4,
 "nbformat_minor": 2
}
