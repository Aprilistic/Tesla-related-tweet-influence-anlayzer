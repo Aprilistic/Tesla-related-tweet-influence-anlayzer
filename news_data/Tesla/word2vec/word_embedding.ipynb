{
 "cells": [
  {
   "cell_type": "code",
   "execution_count": 1,
   "metadata": {},
   "outputs": [],
   "source": [
    "import pandas as pd\n",
    "import numpy as np\n",
    "from time import time\n",
    "from collections import defaultdict\n",
    "import nltk\n",
    "from nltk.corpus import stopwords\n",
    "from nltk.tokenize import word_tokenize, sent_tokenize\n",
    "\n",
    "import logging\n",
    "logging.basicConfig(format='%(asctime)s : %(levelname)s : %(message)s', level=logging.INFO)"
   ]
  },
  {
   "cell_type": "code",
   "execution_count": 2,
   "metadata": {},
   "outputs": [],
   "source": [
    "news_df = pd.read_csv('bing_news_preprocessed.csv')"
   ]
  },
  {
   "cell_type": "code",
   "execution_count": 3,
   "metadata": {},
   "outputs": [
    {
     "data": {
      "text/plain": [
       "name           0\n",
       "description    0\n",
       "dtype: int64"
      ]
     },
     "execution_count": 3,
     "metadata": {},
     "output_type": "execute_result"
    }
   ],
   "source": [
    "news_df.isnull().sum()"
   ]
  },
  {
   "cell_type": "code",
   "execution_count": 4,
   "metadata": {},
   "outputs": [
    {
     "name": "stdout",
     "output_type": "stream",
     "text": [
      "0    [modi, u, elon, musk, say, tesla, come, india,...\n",
      "1    [musk, say, tesla, considering, india, investm...\n",
      "2    [tesla, secret, configuration, allows, select,...\n",
      "dtype: object\n"
     ]
    }
   ],
   "source": [
    "# Define the path to the input CSV file\n",
    "input_file = 'bing_news_preprocessed.csv'\n",
    "\n",
    "# Read the CSV file into a DataFrame\n",
    "data = pd.read_csv(input_file)\n",
    "\n",
    "# Tokenize the text columns\n",
    "data['name'] = data['name'].apply(\n",
    "    lambda x: [word_tokenize(sentence) for sentence in sent_tokenize(x)])\n",
    "data['description'] = data['description'].apply(\n",
    "    lambda x: [word_tokenize(sentence) for sentence in sent_tokenize(x)])\n",
    "\n",
    "# Flatten the list of sentences into a single list of tokenized words\n",
    "data['name'] = data['name'].sum()\n",
    "data['description'] = data['description'].sum()\n",
    "\n",
    "\n",
    "result = data['name'] + data['description']\n",
    "# Print the tokenized data\n",
    "print(result[:3])"
   ]
  },
  {
   "cell_type": "code",
   "execution_count": 5,
   "metadata": {},
   "outputs": [],
   "source": [
    "import multiprocessing\n",
    "from gensim.models import Word2Vec\n",
    "from gensim.models import KeyedVectors"
   ]
  },
  {
   "cell_type": "code",
   "execution_count": 6,
   "metadata": {},
   "outputs": [
    {
     "name": "stderr",
     "output_type": "stream",
     "text": [
      "2023-06-21 18:35:42,211 : INFO : Word2Vec lifecycle event {'params': 'Word2Vec<vocab=0, vector_size=500, alpha=0.03>', 'datetime': '2023-06-21T18:35:42.211855', 'gensim': '4.3.1', 'python': '3.10.11 (main, May 17 2023, 14:30:36) [Clang 14.0.6 ]', 'platform': 'macOS-13.4-arm64-arm-64bit', 'event': 'created'}\n"
     ]
    }
   ],
   "source": [
    "cores = multiprocessing.cpu_count()\n",
    "\n",
    "w2v_model = Word2Vec(min_count=20,\n",
    "                     window=2,\n",
    "                     vector_size=500,\n",
    "                     sample=6e-5,\n",
    "                     alpha=0.03,\n",
    "                     min_alpha=0.0007,\n",
    "                     negative=20,\n",
    "                     workers=cores-1)"
   ]
  },
  {
   "cell_type": "code",
   "execution_count": 7,
   "metadata": {},
   "outputs": [
    {
     "name": "stderr",
     "output_type": "stream",
     "text": [
      "2023-06-21 18:35:42,216 : INFO : collecting all words and their counts\n",
      "2023-06-21 18:35:42,216 : INFO : PROGRESS: at sentence #0, processed 0 words, keeping 0 word types\n",
      "2023-06-21 18:35:42,249 : INFO : PROGRESS: at sentence #10000, processed 289013 words, keeping 2509 word types\n",
      "2023-06-21 18:35:42,283 : INFO : PROGRESS: at sentence #20000, processed 586694 words, keeping 2509 word types\n",
      "2023-06-21 18:35:42,317 : INFO : PROGRESS: at sentence #30000, processed 884446 words, keeping 2509 word types\n",
      "2023-06-21 18:35:42,352 : INFO : PROGRESS: at sentence #40000, processed 1182083 words, keeping 2510 word types\n",
      "2023-06-21 18:35:42,358 : INFO : collected 2510 word types from a corpus of 1229838 raw words and 41604 sentences\n",
      "2023-06-21 18:35:42,358 : INFO : Creating a fresh vocabulary\n",
      "2023-06-21 18:35:42,361 : INFO : Word2Vec lifecycle event {'msg': 'effective_min_count=20 retains 1589 unique words (63.31% of original 2510, drops 921)', 'datetime': '2023-06-21T18:35:42.361947', 'gensim': '4.3.1', 'python': '3.10.11 (main, May 17 2023, 14:30:36) [Clang 14.0.6 ]', 'platform': 'macOS-13.4-arm64-arm-64bit', 'event': 'prepare_vocab'}\n",
      "2023-06-21 18:35:42,362 : INFO : Word2Vec lifecycle event {'msg': 'effective_min_count=20 leaves 1223526 word corpus (99.49% of original 1229838, drops 6312)', 'datetime': '2023-06-21T18:35:42.362358', 'gensim': '4.3.1', 'python': '3.10.11 (main, May 17 2023, 14:30:36) [Clang 14.0.6 ]', 'platform': 'macOS-13.4-arm64-arm-64bit', 'event': 'prepare_vocab'}\n",
      "2023-06-21 18:35:42,366 : INFO : deleting the raw counts dictionary of 2510 items\n",
      "2023-06-21 18:35:42,367 : INFO : sample=6e-05 downsamples 958 most-common words\n",
      "2023-06-21 18:35:42,367 : INFO : Word2Vec lifecycle event {'msg': 'downsampling leaves estimated 354366.81039077695 word corpus (29.0%% of prior 1223526)', 'datetime': '2023-06-21T18:35:42.367355', 'gensim': '4.3.1', 'python': '3.10.11 (main, May 17 2023, 14:30:36) [Clang 14.0.6 ]', 'platform': 'macOS-13.4-arm64-arm-64bit', 'event': 'prepare_vocab'}\n",
      "2023-06-21 18:35:42,375 : INFO : estimated required memory for 1589 words and 500 dimensions: 7150500 bytes\n",
      "2023-06-21 18:35:42,375 : INFO : resetting layer weights\n",
      "2023-06-21 18:35:42,378 : INFO : Word2Vec lifecycle event {'update': False, 'trim_rule': 'None', 'datetime': '2023-06-21T18:35:42.378885', 'gensim': '4.3.1', 'python': '3.10.11 (main, May 17 2023, 14:30:36) [Clang 14.0.6 ]', 'platform': 'macOS-13.4-arm64-arm-64bit', 'event': 'build_vocab'}\n"
     ]
    },
    {
     "name": "stdout",
     "output_type": "stream",
     "text": [
      "Time to build vocab: 0.0 mins\n"
     ]
    }
   ],
   "source": [
    "t = time()\n",
    "\n",
    "w2v_model.build_vocab(result, progress_per=10000)\n",
    "\n",
    "print('Time to build vocab: {} mins'.format(round((time() - t) / 60, 2)))"
   ]
  },
  {
   "cell_type": "code",
   "execution_count": 8,
   "metadata": {},
   "outputs": [
    {
     "name": "stderr",
     "output_type": "stream",
     "text": [
      "2023-06-21 18:35:42,383 : INFO : Word2Vec lifecycle event {'msg': 'training model with 7 workers on 1589 vocabulary and 500 features, using sg=0 hs=0 sample=6e-05 negative=20 window=2 shrink_windows=True', 'datetime': '2023-06-21T18:35:42.383201', 'gensim': '4.3.1', 'python': '3.10.11 (main, May 17 2023, 14:30:36) [Clang 14.0.6 ]', 'platform': 'macOS-13.4-arm64-arm-64bit', 'event': 'train'}\n",
      "2023-06-21 18:35:42,999 : INFO : EPOCH 0: training on 1229838 raw words (354735 effective words) took 0.6s, 579643 effective words/s\n",
      "2023-06-21 18:35:43,439 : INFO : EPOCH 1: training on 1229838 raw words (354357 effective words) took 0.4s, 812752 effective words/s\n",
      "2023-06-21 18:35:43,865 : INFO : EPOCH 2: training on 1229838 raw words (354870 effective words) took 0.4s, 843285 effective words/s\n",
      "2023-06-21 18:35:44,266 : INFO : EPOCH 3: training on 1229838 raw words (354297 effective words) took 0.4s, 893178 effective words/s\n",
      "2023-06-21 18:35:44,706 : INFO : EPOCH 4: training on 1229838 raw words (354239 effective words) took 0.4s, 812950 effective words/s\n",
      "2023-06-21 18:35:45,119 : INFO : EPOCH 5: training on 1229838 raw words (354804 effective words) took 0.4s, 867666 effective words/s\n",
      "2023-06-21 18:35:45,491 : INFO : EPOCH 6: training on 1229838 raw words (354142 effective words) took 0.4s, 965031 effective words/s\n",
      "2023-06-21 18:35:45,867 : INFO : EPOCH 7: training on 1229838 raw words (354044 effective words) took 0.4s, 955079 effective words/s\n",
      "2023-06-21 18:35:46,235 : INFO : EPOCH 8: training on 1229838 raw words (354380 effective words) took 0.4s, 974100 effective words/s\n",
      "2023-06-21 18:35:46,631 : INFO : EPOCH 9: training on 1229838 raw words (354118 effective words) took 0.4s, 906247 effective words/s\n",
      "2023-06-21 18:35:47,003 : INFO : EPOCH 10: training on 1229838 raw words (354753 effective words) took 0.4s, 968516 effective words/s\n",
      "2023-06-21 18:35:47,375 : INFO : EPOCH 11: training on 1229838 raw words (354694 effective words) took 0.4s, 963618 effective words/s\n",
      "2023-06-21 18:35:47,746 : INFO : EPOCH 12: training on 1229838 raw words (353519 effective words) took 0.4s, 964431 effective words/s\n",
      "2023-06-21 18:35:48,148 : INFO : EPOCH 13: training on 1229838 raw words (353964 effective words) took 0.4s, 888845 effective words/s\n",
      "2023-06-21 18:35:48,512 : INFO : EPOCH 14: training on 1229838 raw words (353916 effective words) took 0.4s, 982599 effective words/s\n",
      "2023-06-21 18:35:48,878 : INFO : EPOCH 15: training on 1229838 raw words (355254 effective words) took 0.4s, 983257 effective words/s\n",
      "2023-06-21 18:35:49,249 : INFO : EPOCH 16: training on 1229838 raw words (354476 effective words) took 0.4s, 964364 effective words/s\n",
      "2023-06-21 18:35:49,613 : INFO : EPOCH 17: training on 1229838 raw words (354231 effective words) took 0.4s, 984962 effective words/s\n",
      "2023-06-21 18:35:49,978 : INFO : EPOCH 18: training on 1229838 raw words (354912 effective words) took 0.4s, 983033 effective words/s\n",
      "2023-06-21 18:35:50,345 : INFO : EPOCH 19: training on 1229838 raw words (354602 effective words) took 0.4s, 975890 effective words/s\n",
      "2023-06-21 18:35:50,724 : INFO : EPOCH 20: training on 1229838 raw words (354221 effective words) took 0.4s, 945478 effective words/s\n",
      "2023-06-21 18:35:51,091 : INFO : EPOCH 21: training on 1229838 raw words (354631 effective words) took 0.4s, 976224 effective words/s\n",
      "2023-06-21 18:35:51,459 : INFO : EPOCH 22: training on 1229838 raw words (354251 effective words) took 0.4s, 974032 effective words/s\n",
      "2023-06-21 18:35:51,828 : INFO : EPOCH 23: training on 1229838 raw words (354202 effective words) took 0.4s, 970275 effective words/s\n",
      "2023-06-21 18:35:52,194 : INFO : EPOCH 24: training on 1229838 raw words (354453 effective words) took 0.4s, 980711 effective words/s\n",
      "2023-06-21 18:35:52,570 : INFO : EPOCH 25: training on 1229838 raw words (354831 effective words) took 0.4s, 955758 effective words/s\n",
      "2023-06-21 18:35:52,945 : INFO : EPOCH 26: training on 1229838 raw words (354120 effective words) took 0.4s, 955083 effective words/s\n",
      "2023-06-21 18:35:53,316 : INFO : EPOCH 27: training on 1229838 raw words (354273 effective words) took 0.4s, 965063 effective words/s\n",
      "2023-06-21 18:35:53,720 : INFO : EPOCH 28: training on 1229838 raw words (354080 effective words) took 0.4s, 884973 effective words/s\n",
      "2023-06-21 18:35:54,100 : INFO : EPOCH 29: training on 1229838 raw words (354497 effective words) took 0.4s, 943096 effective words/s\n",
      "2023-06-21 18:35:54,101 : INFO : Word2Vec lifecycle event {'msg': 'training on 36895140 raw words (10631866 effective words) took 11.7s, 907352 effective words/s', 'datetime': '2023-06-21T18:35:54.101371', 'gensim': '4.3.1', 'python': '3.10.11 (main, May 17 2023, 14:30:36) [Clang 14.0.6 ]', 'platform': 'macOS-13.4-arm64-arm-64bit', 'event': 'train'}\n"
     ]
    },
    {
     "name": "stdout",
     "output_type": "stream",
     "text": [
      "Time to train the model: 0.2 mins\n"
     ]
    }
   ],
   "source": [
    "t  = time()\n",
    "\n",
    "w2v_model.train(result, total_examples=w2v_model.corpus_count, epochs=30, report_delay=1)\n",
    "\n",
    "print('Time to train the model: {} mins'.format(round((time() - t) / 60, 2)))"
   ]
  },
  {
   "cell_type": "code",
   "execution_count": 9,
   "metadata": {},
   "outputs": [
    {
     "name": "stderr",
     "output_type": "stream",
     "text": [
      "2023-06-21 18:35:54,106 : INFO : storing 1589x500 projection weights into tesla_news_w2v\n"
     ]
    }
   ],
   "source": [
    "w2v_model.wv.save_word2vec_format('tesla_news_w2v')  # 모델 저장\n"
   ]
  },
  {
   "cell_type": "code",
   "execution_count": 10,
   "metadata": {},
   "outputs": [
    {
     "data": {
      "text/plain": [
       "[('motor', 0.20390723645687103),\n",
       " ('ap', 0.18950140476226807),\n",
       " ('vehicle', 0.18415725231170654),\n",
       " ('electric', 0.17801252007484436),\n",
       " ('gm', 0.17209164798259735),\n",
       " ('owner', 0.16553319990634918),\n",
       " ('ford', 0.16414546966552734),\n",
       " ('detroit', 0.16003084182739258),\n",
       " ('general', 0.14704257249832153),\n",
       " ('far', 0.14576536417007446)]"
      ]
     },
     "execution_count": 10,
     "metadata": {},
     "output_type": "execute_result"
    }
   ],
   "source": [
    "w2v_model.wv.most_similar(positive=[\"tesla\"])\n"
   ]
  },
  {
   "cell_type": "code",
   "execution_count": 11,
   "metadata": {},
   "outputs": [
    {
     "data": {
      "text/plain": [
       "[('journal', 0.6870701909065247),\n",
       " ('interview', 0.620179295539856),\n",
       " ('clip', 0.5673475861549377),\n",
       " ('sixth', 0.5604254603385925),\n",
       " ('seem', 0.5484067797660828),\n",
       " ('street', 0.5451411008834839),\n",
       " ('shared', 0.5358864665031433),\n",
       " ('wall', 0.5186137557029724),\n",
       " ('casting', 0.5008113980293274),\n",
       " ('meant', 0.48182642459869385)]"
      ]
     },
     "execution_count": 11,
     "metadata": {},
     "output_type": "execute_result"
    }
   ],
   "source": [
    "w2v_model.wv.most_similar(positive=[\"gigafactory\"])\n"
   ]
  },
  {
   "cell_type": "code",
   "execution_count": 14,
   "metadata": {},
   "outputs": [
    {
     "data": {
      "text/plain": [
       "[('crash', 0.6024054288864136),\n",
       " ('escape', 0.5572729706764221),\n",
       " ('involved', 0.5564514398574829),\n",
       " ('mode', 0.5528668761253357),\n",
       " ('defense', 0.5435383319854736),\n",
       " ('claim', 0.536834180355072),\n",
       " ('whopping', 0.4865502119064331),\n",
       " ('wildfire', 0.4781320095062256),\n",
       " ('washington', 0.44768744707107544),\n",
       " ('bare', 0.44048401713371277)]"
      ]
     },
     "execution_count": 14,
     "metadata": {},
     "output_type": "execute_result"
    }
   ],
   "source": [
    "w2v_model.wv.most_similar(positive=[\"autopilot\"])\n"
   ]
  },
  {
   "cell_type": "code",
   "execution_count": null,
   "metadata": {},
   "outputs": [],
   "source": []
  }
 ],
 "metadata": {
  "kernelspec": {
   "display_name": "nlp",
   "language": "python",
   "name": "python3"
  },
  "language_info": {
   "codemirror_mode": {
    "name": "ipython",
    "version": 3
   },
   "file_extension": ".py",
   "mimetype": "text/x-python",
   "name": "python",
   "nbconvert_exporter": "python",
   "pygments_lexer": "ipython3",
   "version": "3.10.11"
  },
  "orig_nbformat": 4
 },
 "nbformat": 4,
 "nbformat_minor": 2
}
