{
 "cells": [
  {
   "cell_type": "code",
   "execution_count": 1,
   "metadata": {},
   "outputs": [],
   "source": [
    "import json\n",
    "import pandas as pd\n",
    "import requests\n",
    "import time\n",
    "\n",
    "subscription_key = \"FOR_SAFETY_REASONS_I_REMOVED_THE_KEY\"\n",
    "search_term = \"Tesla\"\n",
    "search_url = \"https://api.bing.microsoft.com/v7.0/news/search\""
   ]
  },
  {
   "cell_type": "code",
   "execution_count": 2,
   "metadata": {},
   "outputs": [],
   "source": [
    "headers = {\"Ocp-Apim-Subscription-Key\": subscription_key}\n",
    "params = {\n",
    "    \"q\": search_term,\n",
    "    \"textDecorations\": True,\n",
    "    \"textFormat\": \"HTML\",\n",
    "    \"cc\": \"en-US\",\n",
    "    \"count\": 100,\n",
    "    \"category\": \"Business\",\n",
    "    \"mkt\": \"en-US\",\n",
    "    \"safeSearch\": \"Moderate\",\n",
    "    \"sortBy\": \"Relevance\",\n",
    "    \"Freshness\": \"Month\"\n",
    "}"
   ]
  },
  {
   "attachments": {},
   "cell_type": "markdown",
   "metadata": {},
   "source": [
    "Tesla 관련 뉴스 Bing news search API 이용해 크롤링"
   ]
  },
  {
   "cell_type": "code",
   "execution_count": 3,
   "metadata": {},
   "outputs": [],
   "source": [
    "\n",
    "all_results = []\n",
    "\n",
    "# Loop to make 500 different requests\n",
    "for i in range(500):\n",
    "    # Set the offset parameter\n",
    "    params[\"offset\"] = i * 100\n",
    "\n",
    "    try:\n",
    "        # Make the request\n",
    "        response = requests.get(search_url, headers=headers, params=params)\n",
    "        response.raise_for_status()\n",
    "\n",
    "        # Parse the response JSON and append to all_results\n",
    "        search_results = response.json()\n",
    "        all_results.extend(search_results.get(\"value\", []))\n",
    "\n",
    "        # Optional: Introduce a delay to avoid hitting rate limits\n",
    "        time.sleep(1)\n",
    "\n",
    "    except requests.exceptions.RequestException as e:\n",
    "        # Handle errors (you can print or log the error message)\n",
    "        print(f\"Error in request {i+1}: {e}\")\n",
    "        break\n",
    "\n",
    "# Convert the results to JSON string\n",
    "all_results_json = json.dumps(all_results)\n",
    "\n",
    "# You can now work with all_results or all_results_json\n",
    "# For example, you can convert it into a pandas DataFrame\n",
    "# df = pd.DataFrame(all_results)\n"
   ]
  },
  {
   "attachments": {},
   "cell_type": "markdown",
   "metadata": {},
   "source": [
    "REST API로 최근 한달간 가장 연관성 높은 기사 5만개 수집"
   ]
  },
  {
   "cell_type": "code",
   "execution_count": 9,
   "metadata": {},
   "outputs": [
    {
     "data": {
      "text/html": [
       "<div>\n",
       "<style scoped>\n",
       "    .dataframe tbody tr th:only-of-type {\n",
       "        vertical-align: middle;\n",
       "    }\n",
       "\n",
       "    .dataframe tbody tr th {\n",
       "        vertical-align: top;\n",
       "    }\n",
       "\n",
       "    .dataframe thead th {\n",
       "        text-align: right;\n",
       "    }\n",
       "</style>\n",
       "<table border=\"1\" class=\"dataframe\">\n",
       "  <thead>\n",
       "    <tr style=\"text-align: right;\">\n",
       "      <th></th>\n",
       "      <th>name</th>\n",
       "      <th>url</th>\n",
       "      <th>image</th>\n",
       "      <th>description</th>\n",
       "      <th>about</th>\n",
       "      <th>provider</th>\n",
       "      <th>datePublished</th>\n",
       "      <th>category</th>\n",
       "      <th>mentions</th>\n",
       "      <th>video</th>\n",
       "    </tr>\n",
       "  </thead>\n",
       "  <tbody>\n",
       "    <tr>\n",
       "      <th>0</th>\n",
       "      <td>Modi in US: Elon Musk says &lt;b&gt;Tesla&lt;/b&gt; to com...</td>\n",
       "      <td>https://www.bbc.com/news/world-asia-india-6595...</td>\n",
       "      <td>{'thumbnail': {'contentUrl': 'https://www.bing...</td>\n",
       "      <td>Tesla CEO Elon Musk has said the electric carm...</td>\n",
       "      <td>[{'readLink': 'https://api.bing.microsoft.com/...</td>\n",
       "      <td>[{'_type': 'Organization', 'name': 'BBC', 'ima...</td>\n",
       "      <td>2023-06-21T04:54:00.0000000Z</td>\n",
       "      <td>World</td>\n",
       "      <td>NaN</td>\n",
       "      <td>NaN</td>\n",
       "    </tr>\n",
       "    <tr>\n",
       "      <th>1</th>\n",
       "      <td>Musk Says &lt;b&gt;Tesla&lt;/b&gt; Considering India Inves...</td>\n",
       "      <td>https://www.msn.com/en-us/money/companies/musk...</td>\n",
       "      <td>{'thumbnail': {'contentUrl': 'https://www.bing...</td>\n",
       "      <td>Tesla Inc. is likely to make a significant inv...</td>\n",
       "      <td>[{'readLink': 'https://api.bing.microsoft.com/...</td>\n",
       "      <td>[{'_type': 'Organization', 'name': 'Bloomberg ...</td>\n",
       "      <td>2023-06-21T04:27:46.0000000Z</td>\n",
       "      <td>NaN</td>\n",
       "      <td>[{'name': 'Narendra Modi'}, {'name': 'Elon Mus...</td>\n",
       "      <td>NaN</td>\n",
       "    </tr>\n",
       "    <tr>\n",
       "      <th>2</th>\n",
       "      <td>&lt;b&gt;Tesla&lt;/b&gt; secret configuration allows selec...</td>\n",
       "      <td>https://www.msn.com/en-us/news/other/tesla-sec...</td>\n",
       "      <td>{'thumbnail': {'contentUrl': 'https://www.bing...</td>\n",
       "      <td>The researcher has nicknamed the feature &amp;quot...</td>\n",
       "      <td>[{'readLink': 'https://api.bing.microsoft.com/...</td>\n",
       "      <td>[{'_type': 'Organization', 'name': 'CNBC on MS...</td>\n",
       "      <td>2023-06-20T23:40:11.0000000Z</td>\n",
       "      <td>ScienceAndTechnology</td>\n",
       "      <td>[{'name': 'Secret'}, {'name': 'Tesla Motors'},...</td>\n",
       "      <td>NaN</td>\n",
       "    </tr>\n",
       "    <tr>\n",
       "      <th>3</th>\n",
       "      <td>&lt;b&gt;Tesla&lt;/b&gt; Rival Kia Rolls Out Details on Ne...</td>\n",
       "      <td>https://www.msn.com/en-us/lifestyle/shopping/t...</td>\n",
       "      <td>{'thumbnail': {'contentUrl': 'https://www.bing...</td>\n",
       "      <td>Kia has gone into expansion mode to offer a co...</td>\n",
       "      <td>[{'readLink': 'https://api.bing.microsoft.com/...</td>\n",
       "      <td>[{'_type': 'Organization', 'name': 'TheStreet....</td>\n",
       "      <td>2023-06-21T04:43:00.0000000Z</td>\n",
       "      <td>Business</td>\n",
       "      <td>[{'name': 'Electric vehicle'}, {'name': 'Kia M...</td>\n",
       "      <td>NaN</td>\n",
       "    </tr>\n",
       "    <tr>\n",
       "      <th>4</th>\n",
       "      <td>Jim Cramer says he&amp;#39;s betting on Ford but s...</td>\n",
       "      <td>https://www.msn.com/en-us/money/markets/jim-cr...</td>\n",
       "      <td>{'thumbnail': {'contentUrl': 'https://www.bing...</td>\n",
       "      <td>While Cramer still believes investors should o...</td>\n",
       "      <td>[{'readLink': 'https://api.bing.microsoft.com/...</td>\n",
       "      <td>[{'_type': 'Organization', 'name': 'CNBC on MS...</td>\n",
       "      <td>2023-06-20T23:25:14.0000000Z</td>\n",
       "      <td>Business</td>\n",
       "      <td>[{'name': 'Jim Cramer'}, {'name': 'Ford Motor ...</td>\n",
       "      <td>{'name': '&amp;#39;I don&amp;#39;t think Ford and Tesl...</td>\n",
       "    </tr>\n",
       "  </tbody>\n",
       "</table>\n",
       "</div>"
      ],
      "text/plain": [
       "                                                name   \n",
       "0  Modi in US: Elon Musk says <b>Tesla</b> to com...  \\\n",
       "1  Musk Says <b>Tesla</b> Considering India Inves...   \n",
       "2  <b>Tesla</b> secret configuration allows selec...   \n",
       "3  <b>Tesla</b> Rival Kia Rolls Out Details on Ne...   \n",
       "4  Jim Cramer says he&#39;s betting on Ford but s...   \n",
       "\n",
       "                                                 url   \n",
       "0  https://www.bbc.com/news/world-asia-india-6595...  \\\n",
       "1  https://www.msn.com/en-us/money/companies/musk...   \n",
       "2  https://www.msn.com/en-us/news/other/tesla-sec...   \n",
       "3  https://www.msn.com/en-us/lifestyle/shopping/t...   \n",
       "4  https://www.msn.com/en-us/money/markets/jim-cr...   \n",
       "\n",
       "                                               image   \n",
       "0  {'thumbnail': {'contentUrl': 'https://www.bing...  \\\n",
       "1  {'thumbnail': {'contentUrl': 'https://www.bing...   \n",
       "2  {'thumbnail': {'contentUrl': 'https://www.bing...   \n",
       "3  {'thumbnail': {'contentUrl': 'https://www.bing...   \n",
       "4  {'thumbnail': {'contentUrl': 'https://www.bing...   \n",
       "\n",
       "                                         description   \n",
       "0  Tesla CEO Elon Musk has said the electric carm...  \\\n",
       "1  Tesla Inc. is likely to make a significant inv...   \n",
       "2  The researcher has nicknamed the feature &quot...   \n",
       "3  Kia has gone into expansion mode to offer a co...   \n",
       "4  While Cramer still believes investors should o...   \n",
       "\n",
       "                                               about   \n",
       "0  [{'readLink': 'https://api.bing.microsoft.com/...  \\\n",
       "1  [{'readLink': 'https://api.bing.microsoft.com/...   \n",
       "2  [{'readLink': 'https://api.bing.microsoft.com/...   \n",
       "3  [{'readLink': 'https://api.bing.microsoft.com/...   \n",
       "4  [{'readLink': 'https://api.bing.microsoft.com/...   \n",
       "\n",
       "                                            provider   \n",
       "0  [{'_type': 'Organization', 'name': 'BBC', 'ima...  \\\n",
       "1  [{'_type': 'Organization', 'name': 'Bloomberg ...   \n",
       "2  [{'_type': 'Organization', 'name': 'CNBC on MS...   \n",
       "3  [{'_type': 'Organization', 'name': 'TheStreet....   \n",
       "4  [{'_type': 'Organization', 'name': 'CNBC on MS...   \n",
       "\n",
       "                  datePublished              category   \n",
       "0  2023-06-21T04:54:00.0000000Z                 World  \\\n",
       "1  2023-06-21T04:27:46.0000000Z                   NaN   \n",
       "2  2023-06-20T23:40:11.0000000Z  ScienceAndTechnology   \n",
       "3  2023-06-21T04:43:00.0000000Z              Business   \n",
       "4  2023-06-20T23:25:14.0000000Z              Business   \n",
       "\n",
       "                                            mentions   \n",
       "0                                                NaN  \\\n",
       "1  [{'name': 'Narendra Modi'}, {'name': 'Elon Mus...   \n",
       "2  [{'name': 'Secret'}, {'name': 'Tesla Motors'},...   \n",
       "3  [{'name': 'Electric vehicle'}, {'name': 'Kia M...   \n",
       "4  [{'name': 'Jim Cramer'}, {'name': 'Ford Motor ...   \n",
       "\n",
       "                                               video  \n",
       "0                                                NaN  \n",
       "1                                                NaN  \n",
       "2                                                NaN  \n",
       "3                                                NaN  \n",
       "4  {'name': '&#39;I don&#39;t think Ford and Tesl...  "
      ]
     },
     "execution_count": 9,
     "metadata": {},
     "output_type": "execute_result"
    }
   ],
   "source": [
    "# Convert the results to a pandas DataFrame\n",
    "df = pd.DataFrame(all_results)\n",
    "df.head()"
   ]
  },
  {
   "attachments": {},
   "cell_type": "markdown",
   "metadata": {},
   "source": [
    "JSON Dataframe 으로 변환"
   ]
  },
  {
   "cell_type": "code",
   "execution_count": 5,
   "metadata": {},
   "outputs": [
    {
     "name": "stdout",
     "output_type": "stream",
     "text": [
      "41604\n"
     ]
    }
   ],
   "source": [
    "df.head()\n",
    "print(df.shape[0])"
   ]
  },
  {
   "attachments": {},
   "cell_type": "markdown",
   "metadata": {},
   "source": [
    "실제로는 41604 건의 뉴스 수집됨"
   ]
  },
  {
   "cell_type": "code",
   "execution_count": 6,
   "metadata": {},
   "outputs": [],
   "source": [
    "df = df[['name', 'description']]"
   ]
  },
  {
   "attachments": {},
   "cell_type": "markdown",
   "metadata": {},
   "source": [
    "기사 제목과 본문만 선택"
   ]
  },
  {
   "cell_type": "code",
   "execution_count": 7,
   "metadata": {},
   "outputs": [
    {
     "data": {
      "text/html": [
       "<div>\n",
       "<style scoped>\n",
       "    .dataframe tbody tr th:only-of-type {\n",
       "        vertical-align: middle;\n",
       "    }\n",
       "\n",
       "    .dataframe tbody tr th {\n",
       "        vertical-align: top;\n",
       "    }\n",
       "\n",
       "    .dataframe thead th {\n",
       "        text-align: right;\n",
       "    }\n",
       "</style>\n",
       "<table border=\"1\" class=\"dataframe\">\n",
       "  <thead>\n",
       "    <tr style=\"text-align: right;\">\n",
       "      <th></th>\n",
       "      <th>name</th>\n",
       "      <th>description</th>\n",
       "    </tr>\n",
       "  </thead>\n",
       "  <tbody>\n",
       "    <tr>\n",
       "      <th>0</th>\n",
       "      <td>Modi in US: Elon Musk says &lt;b&gt;Tesla&lt;/b&gt; to com...</td>\n",
       "      <td>Tesla CEO Elon Musk has said the electric carm...</td>\n",
       "    </tr>\n",
       "    <tr>\n",
       "      <th>1</th>\n",
       "      <td>Musk Says &lt;b&gt;Tesla&lt;/b&gt; Considering India Inves...</td>\n",
       "      <td>Tesla Inc. is likely to make a significant inv...</td>\n",
       "    </tr>\n",
       "    <tr>\n",
       "      <th>2</th>\n",
       "      <td>&lt;b&gt;Tesla&lt;/b&gt; secret configuration allows selec...</td>\n",
       "      <td>The researcher has nicknamed the feature &amp;quot...</td>\n",
       "    </tr>\n",
       "    <tr>\n",
       "      <th>3</th>\n",
       "      <td>&lt;b&gt;Tesla&lt;/b&gt; Rival Kia Rolls Out Details on Ne...</td>\n",
       "      <td>Kia has gone into expansion mode to offer a co...</td>\n",
       "    </tr>\n",
       "    <tr>\n",
       "      <th>4</th>\n",
       "      <td>Jim Cramer says he&amp;#39;s betting on Ford but s...</td>\n",
       "      <td>While Cramer still believes investors should o...</td>\n",
       "    </tr>\n",
       "  </tbody>\n",
       "</table>\n",
       "</div>"
      ],
      "text/plain": [
       "                                                name   \n",
       "0  Modi in US: Elon Musk says <b>Tesla</b> to com...  \\\n",
       "1  Musk Says <b>Tesla</b> Considering India Inves...   \n",
       "2  <b>Tesla</b> secret configuration allows selec...   \n",
       "3  <b>Tesla</b> Rival Kia Rolls Out Details on Ne...   \n",
       "4  Jim Cramer says he&#39;s betting on Ford but s...   \n",
       "\n",
       "                                         description  \n",
       "0  Tesla CEO Elon Musk has said the electric carm...  \n",
       "1  Tesla Inc. is likely to make a significant inv...  \n",
       "2  The researcher has nicknamed the feature &quot...  \n",
       "3  Kia has gone into expansion mode to offer a co...  \n",
       "4  While Cramer still believes investors should o...  "
      ]
     },
     "execution_count": 7,
     "metadata": {},
     "output_type": "execute_result"
    }
   ],
   "source": [
    "df.head()"
   ]
  },
  {
   "cell_type": "code",
   "execution_count": 8,
   "metadata": {},
   "outputs": [],
   "source": [
    "df.to_csv('bing_news.csv', index=False)"
   ]
  },
  {
   "attachments": {},
   "cell_type": "markdown",
   "metadata": {},
   "source": [
    "bing_news.csv 파일로 저장, 불용어 처리는 이후 전처리 과정에서 시행"
   ]
  }
 ],
 "metadata": {
  "kernelspec": {
   "display_name": "nlp",
   "language": "python",
   "name": "python3"
  },
  "language_info": {
   "codemirror_mode": {
    "name": "ipython",
    "version": 3
   },
   "file_extension": ".py",
   "mimetype": "text/x-python",
   "name": "python",
   "nbconvert_exporter": "python",
   "pygments_lexer": "ipython3",
   "version": "3.10.11"
  },
  "orig_nbformat": 4
 },
 "nbformat": 4,
 "nbformat_minor": 2
}
