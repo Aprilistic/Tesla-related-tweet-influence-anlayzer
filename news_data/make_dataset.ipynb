{
 "cells": [
  {
   "cell_type": "code",
   "execution_count": 1,
   "metadata": {},
   "outputs": [],
   "source": [
    "import pandas as pd\n",
    "import re\n",
    "import json"
   ]
  },
  {
   "cell_type": "code",
   "execution_count": 2,
   "metadata": {},
   "outputs": [],
   "source": [
    "other_df = pd.read_csv('Others/bbc_news_raw.csv')\n",
    "tesla_df = pd.read_csv('Tesla/tesla_news_raw.csv')"
   ]
  },
  {
   "cell_type": "code",
   "execution_count": 3,
   "metadata": {},
   "outputs": [
    {
     "name": "stdout",
     "output_type": "stream",
     "text": [
      "(18639, 1)\n",
      "(41604, 1)\n"
     ]
    }
   ],
   "source": [
    "print(other_df.shape)\n",
    "print(tesla_df.shape)"
   ]
  },
  {
   "cell_type": "code",
   "execution_count": 4,
   "metadata": {},
   "outputs": [],
   "source": [
    "tesla_df = tesla_df.iloc[:20000]"
   ]
  },
  {
   "cell_type": "code",
   "execution_count": 5,
   "metadata": {},
   "outputs": [
    {
     "name": "stdout",
     "output_type": "stream",
     "text": [
      "(20000, 1)\n"
     ]
    }
   ],
   "source": [
    "print(tesla_df.shape)"
   ]
  },
  {
   "cell_type": "code",
   "execution_count": 6,
   "metadata": {},
   "outputs": [
    {
     "data": {
      "text/html": [
       "<div>\n",
       "<style scoped>\n",
       "    .dataframe tbody tr th:only-of-type {\n",
       "        vertical-align: middle;\n",
       "    }\n",
       "\n",
       "    .dataframe tbody tr th {\n",
       "        vertical-align: top;\n",
       "    }\n",
       "\n",
       "    .dataframe thead th {\n",
       "        text-align: right;\n",
       "    }\n",
       "</style>\n",
       "<table border=\"1\" class=\"dataframe\">\n",
       "  <thead>\n",
       "    <tr style=\"text-align: right;\">\n",
       "      <th></th>\n",
       "      <th>description</th>\n",
       "    </tr>\n",
       "  </thead>\n",
       "  <tbody>\n",
       "    <tr>\n",
       "      <th>0</th>\n",
       "      <td>angry zelensky vows to punish russian atrociti...</td>\n",
       "    </tr>\n",
       "    <tr>\n",
       "      <th>1</th>\n",
       "      <td>taking cover in a town under attack jeremy bow...</td>\n",
       "    </tr>\n",
       "    <tr>\n",
       "      <th>2</th>\n",
       "      <td>ukraine war 'catastrophic for global food' one...</td>\n",
       "    </tr>\n",
       "    <tr>\n",
       "      <th>3</th>\n",
       "      <td>saffie roussos's parents on hearing the truth ...</td>\n",
       "    </tr>\n",
       "    <tr>\n",
       "      <th>4</th>\n",
       "      <td>oil price soars to highest level since 2008 co...</td>\n",
       "    </tr>\n",
       "  </tbody>\n",
       "</table>\n",
       "</div>"
      ],
      "text/plain": [
       "                                         description\n",
       "0  angry zelensky vows to punish russian atrociti...\n",
       "1  taking cover in a town under attack jeremy bow...\n",
       "2  ukraine war 'catastrophic for global food' one...\n",
       "3  saffie roussos's parents on hearing the truth ...\n",
       "4  oil price soars to highest level since 2008 co..."
      ]
     },
     "execution_count": 6,
     "metadata": {},
     "output_type": "execute_result"
    }
   ],
   "source": [
    "other_df.head()"
   ]
  },
  {
   "cell_type": "code",
   "execution_count": 7,
   "metadata": {},
   "outputs": [
    {
     "name": "stdout",
     "output_type": "stream",
     "text": [
      "[{'label': 0, 'text': 'angry zelensky vows to punish russian atrocities the ukrainian president says the country will not forgive or forget those who murder its civilians.'}, {'label': 0, 'text': 'taking cover in a town under attack jeremy bowen was on the frontline in irpin, as residents came under russian fire while trying to flee.'}, {'label': 0, 'text': \"ukraine war 'catastrophic for global food' one of the world's biggest fertiliser firms says the conflict could deliver a shock to food supplies.\"}, {'label': 0, 'text': \"saffie roussos's parents on hearing the truth the parents of the manchester arena bombing's youngest victim speak about their life since she died.\"}, {'label': 0, 'text': 'oil price soars to highest level since 2008 consumers are feeling the impact of higher energy costs as fuel prices and household bills jump.'}]\n"
     ]
    }
   ],
   "source": [
    "other_dict_list = [{\"label\": 0, \"text\": line} for line in other_df.iloc[:, 0]]\n",
    "\n",
    "print(other_dict_list[:5])"
   ]
  },
  {
   "cell_type": "code",
   "execution_count": 8,
   "metadata": {},
   "outputs": [
    {
     "name": "stdout",
     "output_type": "stream",
     "text": [
      "[{'label': 1, 'text': 'modi in us: elon musk says tesla to come to india \\'as soon as possible\\' tesla ceo elon musk has said the electric carmaker will be in india \"as soon as humanly possible\". his comments followed a meeting with indian prime minister narendra modi, who is on a state visit to the us. the indian government said it had invited mr musk to explore investment opportunities in electric mobility and the commercial space sector.'}, {'label': 1, 'text': 'musk says tesla considering india investment after modi meeting tesla inc. is likely to make a significant investment in india, chief executive officer elon musk said after meeting with narendra modi during the indian prime minister’s us visit to promote development in the world’s most populous country.'}, {'label': 1, 'text': 'tesla secret configuration allows select drivers to use autopilot, fsd without a nag to take the wheel the researcher has nicknamed the feature \"elon mode,\" but this is not the company\\'s internal nomenclature for it, he said.'}, {'label': 1, 'text': \"tesla rival kia rolls out details on next new electric vehicles kia has gone into expansion mode to offer a complete range of electric vehicles, the company's europe marketing head david hilbert told autocar. the company expects to introduce 15 new electric models globally by the end of 2027. the company already revealed a new ev5 suv that will be first marketed in china.\"}, {'label': 1, 'text': \"jim cramer says he's betting on ford but still thinks tesla is a buy while cramer still believes investors should own tesla stock, he said he sees more value in ford and doesn't believe the two are mutually exclusive.\"}]\n"
     ]
    }
   ],
   "source": [
    "tesla_dict_list = [{\"label\": 1, \"text\": line} for line in tesla_df.iloc[:, 0]]\n",
    "\n",
    "print(tesla_dict_list[:5])"
   ]
  },
  {
   "cell_type": "code",
   "execution_count": 9,
   "metadata": {},
   "outputs": [
    {
     "name": "stdout",
     "output_type": "stream",
     "text": [
      "[{'label': 1, 'text': 'general motors to use tesla charging standard from 2025 from 2025, general motors will rely on tesla’s charging port in the usa and canada – exclusively. gm wants to provide adapters so that all cars equipped with the north american charging standard (nacs) can also charge at ccs stations. this makes gm the ...'}, {'label': 1, 'text': 'owners of gm evs will have access to tesla superchargers in 2024 just three months after tesla announced it would open its supercharger network to non-tesla electric vehicles — and only weeks after ford claimed the first spot in line — gm has announced a ...'}, {'label': 0, 'text': 'westwood exits radio show after sexual misconduct claims dj tim westwood leaves capital xtra \"until further notice\" after sexual misconduct allegations.'}, {'label': 0, 'text': \"countries with homophobic laws unlikely to host the games' federation says human rights and inclusiveness are ingrained in its constitution.\"}, {'label': 1, 'text': 'tesla opens superchargers to ford evs in rare collaboration a tesla car charges at a supercharger location in hawthorne, calif. photo: patrick t. fallon/afp via getty images ford electric vehicle owners will get access to tesla superchargers in the u.s. and canada in a new partnership that appears likely to ...'}]\n"
     ]
    }
   ],
   "source": [
    "import random\n",
    "\n",
    "combined_dict_list = other_dict_list.copy()\n",
    "combined_dict_list.extend(tesla_dict_list)\n",
    "\n",
    "random.shuffle(combined_dict_list)\n",
    "\n",
    "print(combined_dict_list[:5])"
   ]
  },
  {
   "cell_type": "code",
   "execution_count": 10,
   "metadata": {},
   "outputs": [
    {
     "name": "stdout",
     "output_type": "stream",
     "text": [
      "File saved successfully.\n"
     ]
    }
   ],
   "source": [
    "import json\n",
    "\n",
    "with open('combined_dict_list_lc.json', 'w') as f:\n",
    "    json.dump(combined_dict_list, f)\n",
    "\n",
    "print('File saved successfully.')"
   ]
  },
  {
   "cell_type": "code",
   "execution_count": null,
   "metadata": {},
   "outputs": [],
   "source": []
  }
 ],
 "metadata": {
  "kernelspec": {
   "display_name": "nlp",
   "language": "python",
   "name": "python3"
  },
  "language_info": {
   "codemirror_mode": {
    "name": "ipython",
    "version": 3
   },
   "file_extension": ".py",
   "mimetype": "text/x-python",
   "name": "python",
   "nbconvert_exporter": "python",
   "pygments_lexer": "ipython3",
   "version": "3.10.11"
  },
  "orig_nbformat": 4
 },
 "nbformat": 4,
 "nbformat_minor": 2
}
