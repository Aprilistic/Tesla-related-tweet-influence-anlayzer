{
 "cells": [
  {
   "cell_type": "code",
   "execution_count": 1,
   "metadata": {},
   "outputs": [],
   "source": [
    "import pandas as pd\n",
    "import re\n",
    "import json"
   ]
  },
  {
   "cell_type": "code",
   "execution_count": 2,
   "metadata": {},
   "outputs": [],
   "source": [
    "other_df = pd.read_csv('Others/bbc_news_cleaned.csv')\n",
    "tesla_df = pd.read_csv('Tesla/bing_news_cleaned.csv')"
   ]
  },
  {
   "cell_type": "code",
   "execution_count": 6,
   "metadata": {},
   "outputs": [
    {
     "name": "stdout",
     "output_type": "stream",
     "text": [
      "(18639, 1)\n",
      "(41604, 1)\n"
     ]
    }
   ],
   "source": [
    "print(other_df.shape)\n",
    "print(tesla_df.shape)"
   ]
  },
  {
   "cell_type": "code",
   "execution_count": 7,
   "metadata": {},
   "outputs": [],
   "source": [
    "tesla_df = tesla_df.iloc[:20000]"
   ]
  },
  {
   "cell_type": "code",
   "execution_count": 8,
   "metadata": {},
   "outputs": [
    {
     "name": "stdout",
     "output_type": "stream",
     "text": [
      "(20000, 1)\n"
     ]
    }
   ],
   "source": [
    "print(tesla_df.shape)"
   ]
  },
  {
   "cell_type": "code",
   "execution_count": 9,
   "metadata": {},
   "outputs": [
    {
     "data": {
      "text/html": [
       "<div>\n",
       "<style scoped>\n",
       "    .dataframe tbody tr th:only-of-type {\n",
       "        vertical-align: middle;\n",
       "    }\n",
       "\n",
       "    .dataframe tbody tr th {\n",
       "        vertical-align: top;\n",
       "    }\n",
       "\n",
       "    .dataframe thead th {\n",
       "        text-align: right;\n",
       "    }\n",
       "</style>\n",
       "<table border=\"1\" class=\"dataframe\">\n",
       "  <thead>\n",
       "    <tr style=\"text-align: right;\">\n",
       "      <th></th>\n",
       "      <th>description</th>\n",
       "    </tr>\n",
       "  </thead>\n",
       "  <tbody>\n",
       "    <tr>\n",
       "      <th>0</th>\n",
       "      <td>Angry Zelensky vows to punish Russian atrociti...</td>\n",
       "    </tr>\n",
       "    <tr>\n",
       "      <th>1</th>\n",
       "      <td>Taking cover in a town under attack Jeremy Bow...</td>\n",
       "    </tr>\n",
       "    <tr>\n",
       "      <th>2</th>\n",
       "      <td>Ukraine war 'catastrophic for global food' One...</td>\n",
       "    </tr>\n",
       "    <tr>\n",
       "      <th>3</th>\n",
       "      <td>Saffie Roussos's parents on hearing the truth ...</td>\n",
       "    </tr>\n",
       "    <tr>\n",
       "      <th>4</th>\n",
       "      <td>Oil price soars to highest level since 2008 Co...</td>\n",
       "    </tr>\n",
       "  </tbody>\n",
       "</table>\n",
       "</div>"
      ],
      "text/plain": [
       "                                         description\n",
       "0  Angry Zelensky vows to punish Russian atrociti...\n",
       "1  Taking cover in a town under attack Jeremy Bow...\n",
       "2  Ukraine war 'catastrophic for global food' One...\n",
       "3  Saffie Roussos's parents on hearing the truth ...\n",
       "4  Oil price soars to highest level since 2008 Co..."
      ]
     },
     "execution_count": 9,
     "metadata": {},
     "output_type": "execute_result"
    }
   ],
   "source": [
    "other_df.head()"
   ]
  },
  {
   "cell_type": "code",
   "execution_count": 10,
   "metadata": {},
   "outputs": [
    {
     "name": "stdout",
     "output_type": "stream",
     "text": [
      "[{'label': 0, 'text': 'Angry Zelensky vows to punish Russian atrocities The Ukrainian president says the country will not forgive or forget those who murder its civilians.'}, {'label': 0, 'text': 'Taking cover in a town under attack Jeremy Bowen was on the frontline in Irpin, as residents came under Russian fire while trying to flee.'}, {'label': 0, 'text': \"Ukraine war 'catastrophic for global food' One of the world's biggest fertiliser firms says the conflict could deliver a shock to food supplies.\"}, {'label': 0, 'text': \"Saffie Roussos's parents on hearing the truth The parents of the Manchester Arena bombing's youngest victim speak about their life since she died.\"}, {'label': 0, 'text': 'Oil price soars to highest level since 2008 Consumers are feeling the impact of higher energy costs as fuel prices and household bills jump.'}]\n"
     ]
    }
   ],
   "source": [
    "other_dict_list = [{\"label\": 0, \"text\": line} for line in other_df.iloc[:, 0]]\n",
    "\n",
    "print(other_dict_list[:5])"
   ]
  },
  {
   "cell_type": "code",
   "execution_count": 12,
   "metadata": {},
   "outputs": [
    {
     "name": "stdout",
     "output_type": "stream",
     "text": [
      "[{'label': 1, 'text': 'Modi in US: Elon Musk says Tesla to come to India \\'as soon as possible\\' Tesla CEO Elon Musk has said the electric carmaker will be in India \"as soon as humanly possible\". His comments followed a meeting with Indian Prime Minister Narendra Modi, who is on a state visit to the US. The Indian government said it had invited Mr Musk to explore investment opportunities in electric mobility and the commercial space sector.'}, {'label': 1, 'text': 'Musk Says Tesla Considering India Investment After Modi Meeting Tesla Inc. is likely to make a significant investment in India, Chief Executive Officer Elon Musk said after meeting with Narendra Modi during the Indian Prime Minister’s US visit to promote development in the world’s most populous country.'}, {'label': 1, 'text': 'Tesla secret configuration allows select drivers to use Autopilot, FSD without a nag to take the wheel The researcher has nicknamed the feature \"Elon Mode,\" but this is not the company\\'s internal nomenclature for it, he said.'}, {'label': 1, 'text': \"Tesla Rival Kia Rolls Out Details on Next New Electric Vehicles Kia has gone into expansion mode to offer a complete range of electric vehicles, the company's Europe marketing head David Hilbert told Autocar. The company expects to introduce 15 new electric models globally by the end of 2027. The company already revealed a new EV5 SUV that will be first marketed in China.\"}, {'label': 1, 'text': \"Jim Cramer says he's betting on Ford but still thinks Tesla is a buy While Cramer still believes investors should own Tesla stock, he said he sees more value in Ford and doesn't believe the two are mutually exclusive.\"}]\n"
     ]
    }
   ],
   "source": [
    "tesla_dict_list = [{\"label\": 1, \"text\": line} for line in tesla_df.iloc[:, 0]]\n",
    "\n",
    "print(tesla_dict_list[:5])"
   ]
  },
  {
   "cell_type": "code",
   "execution_count": 13,
   "metadata": {},
   "outputs": [
    {
     "name": "stdout",
     "output_type": "stream",
     "text": [
      "[{'label': 1, 'text': \"GM reaches deal for access to Tesla's North American chargers General Motors vehicles will have access to Tesla's charging network following an announcement by the two companies. Photo: JUSTIN SULLIVAN / GETTY IMAGES NORTH AMERICA/Getty Images via AFP/File Tesla will open its North American electric vehicle charging ...\"}, {'label': 0, 'text': \"Said Benrahma's strike sees Hammers through Manager David Moyes hopes West Ham United's FA Cup win at Brentford will prove to be a turning point in their season.\"}, {'label': 0, 'text': 'Sanna Marin fights for survival Polls suggest she is in a tight race with centre-right Petteri Orpo and right-wing populist Riikka Purra.'}, {'label': 1, 'text': 'Tesla shares finally snap record 13-day win streak that added $200 billion in value (Reuters) – Tesla’s record 13-day streak of gains finally came to an end on Wednesday, as the stock closed down just a smidgen after a stretch that saw the U.S. automaker add more than $200 billion to its value. During the streak, Tesla shares rose by ...'}, {'label': 1, 'text': 'No Surprise, Tesla Cybertruck Delays Strike Again Just when things were on the up and up, new Tesla Cybertruck delays are bringing us back down. Waiting for the Tesla Cybertruck to debut has been a wild ride since 2019. We’ve already seen the first deliveries get pushed back from 2020 until 2024.'}]\n"
     ]
    }
   ],
   "source": [
    "import random\n",
    "\n",
    "combined_dict_list = other_dict_list.copy()\n",
    "combined_dict_list.extend(tesla_dict_list)\n",
    "\n",
    "random.shuffle(combined_dict_list)\n",
    "\n",
    "print(combined_dict_list[:5])"
   ]
  },
  {
   "cell_type": "code",
   "execution_count": 14,
   "metadata": {},
   "outputs": [
    {
     "name": "stdout",
     "output_type": "stream",
     "text": [
      "File saved successfully.\n"
     ]
    }
   ],
   "source": [
    "import json\n",
    "\n",
    "with open('combined_dict_list.json', 'w') as f:\n",
    "    json.dump(combined_dict_list, f)\n",
    "\n",
    "print('File saved successfully.')"
   ]
  },
  {
   "cell_type": "code",
   "execution_count": null,
   "metadata": {},
   "outputs": [],
   "source": []
  }
 ],
 "metadata": {
  "kernelspec": {
   "display_name": "nlp",
   "language": "python",
   "name": "python3"
  },
  "language_info": {
   "codemirror_mode": {
    "name": "ipython",
    "version": 3
   },
   "file_extension": ".py",
   "mimetype": "text/x-python",
   "name": "python",
   "nbconvert_exporter": "python",
   "pygments_lexer": "ipython3",
   "version": "3.10.11"
  },
  "orig_nbformat": 4
 },
 "nbformat": 4,
 "nbformat_minor": 2
}
